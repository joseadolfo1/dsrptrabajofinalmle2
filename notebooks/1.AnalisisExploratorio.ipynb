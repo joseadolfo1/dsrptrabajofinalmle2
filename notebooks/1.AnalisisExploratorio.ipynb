{
 "cells": [
  {
   "cell_type": "code",
   "execution_count": 1,
   "id": "a031738a-fdea-4dfe-8718-9da38a4939f6",
   "metadata": {
    "scrolled": true
   },
   "outputs": [],
   "source": [
    "import mlflow\n",
    "import pandas as pd\n",
    "import numpy as np\n",
    "\n",
    "from pmdarima import auto_arima\n",
    "\n",
    "import matplotlib.pyplot as plt\n",
    "import seaborn as sns\n",
    "\n",
    "from statsmodels.tsa.seasonal import seasonal_decompose\n",
    "from statsmodels.tsa.holtwinters import ExponentialSmoothing\n",
    "\n",
    "from prophet import Prophet\n",
    "from xgboost import XGBRegressor\n",
    "\n",
    "from sklearn.metrics import mean_absolute_error, mean_absolute_percentage_error, mean_squared_error\n",
    "from sklearn.model_selection import train_test_split\n",
    "from sklearn.linear_model import LinearRegression\n",
    "\n",
    "from sklearn.preprocessing import StandardScaler, MinMaxScaler, RobustScaler\n",
    "     \n",
    "import matplotlib.pyplot as plt\n",
    "\n",
    "\n",
    "from sklearn.metrics import mean_squared_error, mean_absolute_error\n",
    "\n",
    "import warnings"
   ]
  },
  {
   "cell_type": "code",
   "execution_count": 2,
   "id": "0fe091e6-0deb-4954-90d9-2c292eec49f8",
   "metadata": {},
   "outputs": [],
   "source": [
    "raw_pjme = pd.read_csv(\"../data/raw/PJME_hourly.csv\", index_col=[0],parse_dates=[0])\n",
    "#raw_pjme = pd.read_csv(\"../data/raw/PJME_hourly.csv\")"
   ]
  },
  {
   "cell_type": "code",
   "execution_count": 3,
   "id": "6b35b558-26fe-4b4a-8798-a2ca0acc7d5e",
   "metadata": {},
   "outputs": [
    {
     "name": "stdout",
     "output_type": "stream",
     "text": [
      "<class 'pandas.core.frame.DataFrame'>\n",
      "DatetimeIndex: 145366 entries, 2002-12-31 01:00:00 to 2018-01-02 00:00:00\n",
      "Data columns (total 1 columns):\n",
      " #   Column   Non-Null Count   Dtype  \n",
      "---  ------   --------------   -----  \n",
      " 0   PJME_MW  145366 non-null  float64\n",
      "dtypes: float64(1)\n",
      "memory usage: 2.2 MB\n"
     ]
    }
   ],
   "source": [
    "raw_pjme.info()"
   ]
  },
  {
   "cell_type": "code",
   "execution_count": 4,
   "id": "502917f6-30e9-468a-aee9-0bce04a58fa9",
   "metadata": {},
   "outputs": [],
   "source": [
    "#raw_pjme[\"Datetime\"] = pd.to_datetime(raw_pjme[\"Datetime\"])"
   ]
  },
  {
   "cell_type": "code",
   "execution_count": 5,
   "id": "9662fab8-1cd2-460b-86f7-c380ef0eed37",
   "metadata": {},
   "outputs": [
    {
     "name": "stdout",
     "output_type": "stream",
     "text": [
      "<class 'pandas.core.frame.DataFrame'>\n",
      "DatetimeIndex: 145366 entries, 2002-12-31 01:00:00 to 2018-01-02 00:00:00\n",
      "Data columns (total 1 columns):\n",
      " #   Column   Non-Null Count   Dtype  \n",
      "---  ------   --------------   -----  \n",
      " 0   PJME_MW  145366 non-null  float64\n",
      "dtypes: float64(1)\n",
      "memory usage: 2.2 MB\n"
     ]
    }
   ],
   "source": [
    "raw_pjme.info()"
   ]
  },
  {
   "cell_type": "code",
   "execution_count": 6,
   "id": "25719f7d-5a84-45b5-bf5f-9d036ffb35c6",
   "metadata": {},
   "outputs": [
    {
     "data": {
      "text/html": [
       "<div>\n",
       "<style scoped>\n",
       "    .dataframe tbody tr th:only-of-type {\n",
       "        vertical-align: middle;\n",
       "    }\n",
       "\n",
       "    .dataframe tbody tr th {\n",
       "        vertical-align: top;\n",
       "    }\n",
       "\n",
       "    .dataframe thead th {\n",
       "        text-align: right;\n",
       "    }\n",
       "</style>\n",
       "<table border=\"1\" class=\"dataframe\">\n",
       "  <thead>\n",
       "    <tr style=\"text-align: right;\">\n",
       "      <th></th>\n",
       "      <th>PJME_MW</th>\n",
       "    </tr>\n",
       "    <tr>\n",
       "      <th>Datetime</th>\n",
       "      <th></th>\n",
       "    </tr>\n",
       "  </thead>\n",
       "  <tbody>\n",
       "    <tr>\n",
       "      <th>2002-12-31 01:00:00</th>\n",
       "      <td>26498.0</td>\n",
       "    </tr>\n",
       "    <tr>\n",
       "      <th>2002-12-31 02:00:00</th>\n",
       "      <td>25147.0</td>\n",
       "    </tr>\n",
       "    <tr>\n",
       "      <th>2002-12-31 03:00:00</th>\n",
       "      <td>24574.0</td>\n",
       "    </tr>\n",
       "    <tr>\n",
       "      <th>2002-12-31 04:00:00</th>\n",
       "      <td>24393.0</td>\n",
       "    </tr>\n",
       "    <tr>\n",
       "      <th>2002-12-31 05:00:00</th>\n",
       "      <td>24860.0</td>\n",
       "    </tr>\n",
       "    <tr>\n",
       "      <th>...</th>\n",
       "      <td>...</td>\n",
       "    </tr>\n",
       "    <tr>\n",
       "      <th>2018-01-01 20:00:00</th>\n",
       "      <td>44284.0</td>\n",
       "    </tr>\n",
       "    <tr>\n",
       "      <th>2018-01-01 21:00:00</th>\n",
       "      <td>43751.0</td>\n",
       "    </tr>\n",
       "    <tr>\n",
       "      <th>2018-01-01 22:00:00</th>\n",
       "      <td>42402.0</td>\n",
       "    </tr>\n",
       "    <tr>\n",
       "      <th>2018-01-01 23:00:00</th>\n",
       "      <td>40164.0</td>\n",
       "    </tr>\n",
       "    <tr>\n",
       "      <th>2018-01-02 00:00:00</th>\n",
       "      <td>38608.0</td>\n",
       "    </tr>\n",
       "  </tbody>\n",
       "</table>\n",
       "<p>145366 rows × 1 columns</p>\n",
       "</div>"
      ],
      "text/plain": [
       "                     PJME_MW\n",
       "Datetime                    \n",
       "2002-12-31 01:00:00  26498.0\n",
       "2002-12-31 02:00:00  25147.0\n",
       "2002-12-31 03:00:00  24574.0\n",
       "2002-12-31 04:00:00  24393.0\n",
       "2002-12-31 05:00:00  24860.0\n",
       "...                      ...\n",
       "2018-01-01 20:00:00  44284.0\n",
       "2018-01-01 21:00:00  43751.0\n",
       "2018-01-01 22:00:00  42402.0\n",
       "2018-01-01 23:00:00  40164.0\n",
       "2018-01-02 00:00:00  38608.0\n",
       "\n",
       "[145366 rows x 1 columns]"
      ]
     },
     "execution_count": 6,
     "metadata": {},
     "output_type": "execute_result"
    }
   ],
   "source": [
    "raw_pjme"
   ]
  },
  {
   "cell_type": "code",
   "execution_count": 7,
   "id": "15c21202-caf8-49ae-b08a-c75b4a48d89f",
   "metadata": {},
   "outputs": [
    {
     "data": {
      "text/html": [
       "<div>\n",
       "<style scoped>\n",
       "    .dataframe tbody tr th:only-of-type {\n",
       "        vertical-align: middle;\n",
       "    }\n",
       "\n",
       "    .dataframe tbody tr th {\n",
       "        vertical-align: top;\n",
       "    }\n",
       "\n",
       "    .dataframe thead th {\n",
       "        text-align: right;\n",
       "    }\n",
       "</style>\n",
       "<table border=\"1\" class=\"dataframe\">\n",
       "  <thead>\n",
       "    <tr style=\"text-align: right;\">\n",
       "      <th></th>\n",
       "      <th>PJME_MW</th>\n",
       "    </tr>\n",
       "  </thead>\n",
       "  <tbody>\n",
       "    <tr>\n",
       "      <th>count</th>\n",
       "      <td>145366.000000</td>\n",
       "    </tr>\n",
       "    <tr>\n",
       "      <th>mean</th>\n",
       "      <td>32080.222831</td>\n",
       "    </tr>\n",
       "    <tr>\n",
       "      <th>std</th>\n",
       "      <td>6464.012166</td>\n",
       "    </tr>\n",
       "    <tr>\n",
       "      <th>min</th>\n",
       "      <td>14544.000000</td>\n",
       "    </tr>\n",
       "    <tr>\n",
       "      <th>25%</th>\n",
       "      <td>27573.000000</td>\n",
       "    </tr>\n",
       "    <tr>\n",
       "      <th>50%</th>\n",
       "      <td>31421.000000</td>\n",
       "    </tr>\n",
       "    <tr>\n",
       "      <th>75%</th>\n",
       "      <td>35650.000000</td>\n",
       "    </tr>\n",
       "    <tr>\n",
       "      <th>max</th>\n",
       "      <td>62009.000000</td>\n",
       "    </tr>\n",
       "  </tbody>\n",
       "</table>\n",
       "</div>"
      ],
      "text/plain": [
       "             PJME_MW\n",
       "count  145366.000000\n",
       "mean    32080.222831\n",
       "std      6464.012166\n",
       "min     14544.000000\n",
       "25%     27573.000000\n",
       "50%     31421.000000\n",
       "75%     35650.000000\n",
       "max     62009.000000"
      ]
     },
     "execution_count": 7,
     "metadata": {},
     "output_type": "execute_result"
    }
   ],
   "source": [
    "raw_pjme.describe()"
   ]
  },
  {
   "cell_type": "code",
   "execution_count": 8,
   "id": "ce7b27d5-b585-484e-94fc-b1c2479931f0",
   "metadata": {},
   "outputs": [
    {
     "data": {
      "text/plain": [
       "<Axes: xlabel='Datetime', ylabel='PJME_MW'>"
      ]
     },
     "execution_count": 8,
     "metadata": {},
     "output_type": "execute_result"
    },
    {
     "data": {
      "image/png": "[encoded data removed]",
      "text/plain": [
       "<Figure size 640x480 with 1 Axes>"
      ]
     },
     "metadata": {},
     "output_type": "display_data"
    }
   ],
   "source": [
    "sns.lineplot(x=raw_pjme.index, y=raw_pjme[\"PJME_MW\"])"
   ]
  },
  {
   "cell_type": "code",
   "execution_count": null,
   "id": "81f68ebd-88f7-478a-9ced-488d9bb69758",
   "metadata": {},
   "outputs": [],
   "source": []
  },
  {
   "cell_type": "code",
   "execution_count": 9,
   "id": "29e0f842-5a7d-4f2e-8803-fb7ee1709843",
   "metadata": {},
   "outputs": [],
   "source": [
    "scaler = StandardScaler()"
   ]
  },
  {
   "cell_type": "code",
   "execution_count": 10,
   "id": "52e323b2-4cf3-476e-8b6a-95619f1bab1d",
   "metadata": {},
   "outputs": [],
   "source": [
    "scaled_array = scaler.fit_transform(raw_pjme)"
   ]
  },
  {
   "cell_type": "code",
   "execution_count": 11,
   "id": "e76725d2-5caa-4555-9e7a-7141a7cd44bb",
   "metadata": {},
   "outputs": [
    {
     "data": {
      "text/plain": [
       "array([[-0.8635878 ],\n",
       "       [-1.07259184],\n",
       "       [-1.16123678],\n",
       "       ...,\n",
       "       [ 1.59681207],\n",
       "       [ 1.25058629],\n",
       "       [ 1.00986809]])"
      ]
     },
     "execution_count": 11,
     "metadata": {},
     "output_type": "execute_result"
    }
   ],
   "source": [
    "scaled_array"
   ]
  },
  {
   "cell_type": "code",
   "execution_count": 12,
   "id": "a86ccb62-a1f9-4d88-98e1-d34448bc3771",
   "metadata": {},
   "outputs": [],
   "source": [
    "df_scaled = pd.DataFrame(scaled_array, columns=raw_pjme.columns, index=raw_pjme.index)"
   ]
  },
  {
   "cell_type": "code",
   "execution_count": 13,
   "id": "3aadb551-eaa0-40f0-8dc9-be946c4a7638",
   "metadata": {},
   "outputs": [
    {
     "data": {
      "text/html": [
       "<div>\n",
       "<style scoped>\n",
       "    .dataframe tbody tr th:only-of-type {\n",
       "        vertical-align: middle;\n",
       "    }\n",
       "\n",
       "    .dataframe tbody tr th {\n",
       "        vertical-align: top;\n",
       "    }\n",
       "\n",
       "    .dataframe thead th {\n",
       "        text-align: right;\n",
       "    }\n",
       "</style>\n",
       "<table border=\"1\" class=\"dataframe\">\n",
       "  <thead>\n",
       "    <tr style=\"text-align: right;\">\n",
       "      <th></th>\n",
       "      <th>PJME_MW</th>\n",
       "    </tr>\n",
       "    <tr>\n",
       "      <th>Datetime</th>\n",
       "      <th></th>\n",
       "    </tr>\n",
       "  </thead>\n",
       "  <tbody>\n",
       "    <tr>\n",
       "      <th>2002-12-31 01:00:00</th>\n",
       "      <td>-0.863588</td>\n",
       "    </tr>\n",
       "    <tr>\n",
       "      <th>2002-12-31 02:00:00</th>\n",
       "      <td>-1.072592</td>\n",
       "    </tr>\n",
       "    <tr>\n",
       "      <th>2002-12-31 03:00:00</th>\n",
       "      <td>-1.161237</td>\n",
       "    </tr>\n",
       "    <tr>\n",
       "      <th>2002-12-31 04:00:00</th>\n",
       "      <td>-1.189238</td>\n",
       "    </tr>\n",
       "    <tr>\n",
       "      <th>2002-12-31 05:00:00</th>\n",
       "      <td>-1.116992</td>\n",
       "    </tr>\n",
       "    <tr>\n",
       "      <th>...</th>\n",
       "      <td>...</td>\n",
       "    </tr>\n",
       "    <tr>\n",
       "      <th>2018-01-01 20:00:00</th>\n",
       "      <td>1.887964</td>\n",
       "    </tr>\n",
       "    <tr>\n",
       "      <th>2018-01-01 21:00:00</th>\n",
       "      <td>1.805507</td>\n",
       "    </tr>\n",
       "    <tr>\n",
       "      <th>2018-01-01 22:00:00</th>\n",
       "      <td>1.596812</td>\n",
       "    </tr>\n",
       "    <tr>\n",
       "      <th>2018-01-01 23:00:00</th>\n",
       "      <td>1.250586</td>\n",
       "    </tr>\n",
       "    <tr>\n",
       "      <th>2018-01-02 00:00:00</th>\n",
       "      <td>1.009868</td>\n",
       "    </tr>\n",
       "  </tbody>\n",
       "</table>\n",
       "<p>145366 rows × 1 columns</p>\n",
       "</div>"
      ],
      "text/plain": [
       "                      PJME_MW\n",
       "Datetime                     \n",
       "2002-12-31 01:00:00 -0.863588\n",
       "2002-12-31 02:00:00 -1.072592\n",
       "2002-12-31 03:00:00 -1.161237\n",
       "2002-12-31 04:00:00 -1.189238\n",
       "2002-12-31 05:00:00 -1.116992\n",
       "...                       ...\n",
       "2018-01-01 20:00:00  1.887964\n",
       "2018-01-01 21:00:00  1.805507\n",
       "2018-01-01 22:00:00  1.596812\n",
       "2018-01-01 23:00:00  1.250586\n",
       "2018-01-02 00:00:00  1.009868\n",
       "\n",
       "[145366 rows x 1 columns]"
      ]
     },
     "execution_count": 13,
     "metadata": {},
     "output_type": "execute_result"
    }
   ],
   "source": [
    "df_scaled"
   ]
  },
  {
   "cell_type": "code",
   "execution_count": 14,
   "id": "f9b3219f-2d74-4202-876e-6019a32140ce",
   "metadata": {},
   "outputs": [
    {
     "data": {
      "text/html": [
       "<div>\n",
       "<style scoped>\n",
       "    .dataframe tbody tr th:only-of-type {\n",
       "        vertical-align: middle;\n",
       "    }\n",
       "\n",
       "    .dataframe tbody tr th {\n",
       "        vertical-align: top;\n",
       "    }\n",
       "\n",
       "    .dataframe thead th {\n",
       "        text-align: right;\n",
       "    }\n",
       "</style>\n",
       "<table border=\"1\" class=\"dataframe\">\n",
       "  <thead>\n",
       "    <tr style=\"text-align: right;\">\n",
       "      <th></th>\n",
       "      <th>PJME_MW</th>\n",
       "    </tr>\n",
       "  </thead>\n",
       "  <tbody>\n",
       "    <tr>\n",
       "      <th>count</th>\n",
       "      <td>1.453660e+05</td>\n",
       "    </tr>\n",
       "    <tr>\n",
       "      <th>mean</th>\n",
       "      <td>2.252371e-16</td>\n",
       "    </tr>\n",
       "    <tr>\n",
       "      <th>std</th>\n",
       "      <td>1.000003e+00</td>\n",
       "    </tr>\n",
       "    <tr>\n",
       "      <th>min</th>\n",
       "      <td>-2.712910e+00</td>\n",
       "    </tr>\n",
       "    <tr>\n",
       "      <th>25%</th>\n",
       "      <td>-6.972818e-01</td>\n",
       "    </tr>\n",
       "    <tr>\n",
       "      <th>50%</th>\n",
       "      <td>-1.019839e-01</td>\n",
       "    </tr>\n",
       "    <tr>\n",
       "      <th>75%</th>\n",
       "      <td>5.522560e-01</td>\n",
       "    </tr>\n",
       "    <tr>\n",
       "      <th>max</th>\n",
       "      <td>4.630078e+00</td>\n",
       "    </tr>\n",
       "  </tbody>\n",
       "</table>\n",
       "</div>"
      ],
      "text/plain": [
       "            PJME_MW\n",
       "count  1.453660e+05\n",
       "mean   2.252371e-16\n",
       "std    1.000003e+00\n",
       "min   -2.712910e+00\n",
       "25%   -6.972818e-01\n",
       "50%   -1.019839e-01\n",
       "75%    5.522560e-01\n",
       "max    4.630078e+00"
      ]
     },
     "execution_count": 14,
     "metadata": {},
     "output_type": "execute_result"
    }
   ],
   "source": [
    "df_scaled.describe()"
   ]
  },
  {
   "cell_type": "code",
   "execution_count": 15,
   "id": "a7377bb0-f305-4056-ad26-3dadfc9356e6",
   "metadata": {},
   "outputs": [
    {
     "data": {
      "text/plain": [
       "<Axes: xlabel='Datetime', ylabel='PJME_MW'>"
      ]
     },
     "execution_count": 15,
     "metadata": {},
     "output_type": "execute_result"
    },
    {
     "data": {
      "image/png": "[encoded data removed]",
      "text/plain": [
       "<Figure size 640x480 with 1 Axes>"
      ]
     },
     "metadata": {},
     "output_type": "display_data"
    }
   ],
   "source": [
    "sns.lineplot(x=df_scaled.index, y=df_scaled[\"PJME_MW\"])"
   ]
  },
  {
   "cell_type": "code",
   "execution_count": 16,
   "id": "2b94e82d-c6fc-4afe-a987-c816283ee441",
   "metadata": {},
   "outputs": [
    {
     "data": {
      "text/plain": [
       "True"
      ]
     },
     "execution_count": 16,
     "metadata": {},
     "output_type": "execute_result"
    }
   ],
   "source": [
    "raw_pjme.index.duplicated().any()"
   ]
  },
  {
   "cell_type": "code",
   "execution_count": 17,
   "id": "3c2fd295-3a5d-41d9-a3e1-8bf13c98805c",
   "metadata": {},
   "outputs": [],
   "source": [
    "mask = raw_pjme.index.duplicated(keep=False)  \n",
    "df_dupes = raw_pjme[mask]"
   ]
  },
  {
   "cell_type": "code",
   "execution_count": 18,
   "id": "74de3ded-e37e-48a5-ba3f-90f23cf52d84",
   "metadata": {},
   "outputs": [
    {
     "data": {
      "text/html": [
       "<div>\n",
       "<style scoped>\n",
       "    .dataframe tbody tr th:only-of-type {\n",
       "        vertical-align: middle;\n",
       "    }\n",
       "\n",
       "    .dataframe tbody tr th {\n",
       "        vertical-align: top;\n",
       "    }\n",
       "\n",
       "    .dataframe thead th {\n",
       "        text-align: right;\n",
       "    }\n",
       "</style>\n",
       "<table border=\"1\" class=\"dataframe\">\n",
       "  <thead>\n",
       "    <tr style=\"text-align: right;\">\n",
       "      <th></th>\n",
       "      <th>PJME_MW</th>\n",
       "    </tr>\n",
       "    <tr>\n",
       "      <th>Datetime</th>\n",
       "      <th></th>\n",
       "    </tr>\n",
       "  </thead>\n",
       "  <tbody>\n",
       "    <tr>\n",
       "      <th>2014-11-02 02:00:00</th>\n",
       "      <td>22935.0</td>\n",
       "    </tr>\n",
       "    <tr>\n",
       "      <th>2014-11-02 02:00:00</th>\n",
       "      <td>23755.0</td>\n",
       "    </tr>\n",
       "    <tr>\n",
       "      <th>2015-11-01 02:00:00</th>\n",
       "      <td>21567.0</td>\n",
       "    </tr>\n",
       "    <tr>\n",
       "      <th>2015-11-01 02:00:00</th>\n",
       "      <td>21171.0</td>\n",
       "    </tr>\n",
       "    <tr>\n",
       "      <th>2016-11-06 02:00:00</th>\n",
       "      <td>20795.0</td>\n",
       "    </tr>\n",
       "    <tr>\n",
       "      <th>2016-11-06 02:00:00</th>\n",
       "      <td>21692.0</td>\n",
       "    </tr>\n",
       "    <tr>\n",
       "      <th>2017-11-05 02:00:00</th>\n",
       "      <td>21236.0</td>\n",
       "    </tr>\n",
       "    <tr>\n",
       "      <th>2017-11-05 02:00:00</th>\n",
       "      <td>20666.0</td>\n",
       "    </tr>\n",
       "  </tbody>\n",
       "</table>\n",
       "</div>"
      ],
      "text/plain": [
       "                     PJME_MW\n",
       "Datetime                    \n",
       "2014-11-02 02:00:00  22935.0\n",
       "2014-11-02 02:00:00  23755.0\n",
       "2015-11-01 02:00:00  21567.0\n",
       "2015-11-01 02:00:00  21171.0\n",
       "2016-11-06 02:00:00  20795.0\n",
       "2016-11-06 02:00:00  21692.0\n",
       "2017-11-05 02:00:00  21236.0\n",
       "2017-11-05 02:00:00  20666.0"
      ]
     },
     "execution_count": 18,
     "metadata": {},
     "output_type": "execute_result"
    }
   ],
   "source": [
    "df_dupes"
   ]
  },
  {
   "cell_type": "code",
   "execution_count": 19,
   "id": "ed3d641a-b198-4d01-8353-4308525eff71",
   "metadata": {},
   "outputs": [],
   "source": [
    "mask = df_scaled.index.duplicated(keep=False)  \n",
    "df_dupes = df_scaled[mask]"
   ]
  },
  {
   "cell_type": "code",
   "execution_count": 20,
   "id": "9c412975-0656-44ca-a03e-bbf0a47ddb09",
   "metadata": {},
   "outputs": [
    {
     "data": {
      "text/html": [
       "<div>\n",
       "<style scoped>\n",
       "    .dataframe tbody tr th:only-of-type {\n",
       "        vertical-align: middle;\n",
       "    }\n",
       "\n",
       "    .dataframe tbody tr th {\n",
       "        vertical-align: top;\n",
       "    }\n",
       "\n",
       "    .dataframe thead th {\n",
       "        text-align: right;\n",
       "    }\n",
       "</style>\n",
       "<table border=\"1\" class=\"dataframe\">\n",
       "  <thead>\n",
       "    <tr style=\"text-align: right;\">\n",
       "      <th></th>\n",
       "      <th>PJME_MW</th>\n",
       "    </tr>\n",
       "    <tr>\n",
       "      <th>Datetime</th>\n",
       "      <th></th>\n",
       "    </tr>\n",
       "  </thead>\n",
       "  <tbody>\n",
       "    <tr>\n",
       "      <th>2014-11-02 02:00:00</th>\n",
       "      <td>-1.414795</td>\n",
       "    </tr>\n",
       "    <tr>\n",
       "      <th>2014-11-02 02:00:00</th>\n",
       "      <td>-1.287939</td>\n",
       "    </tr>\n",
       "    <tr>\n",
       "      <th>2015-11-01 02:00:00</th>\n",
       "      <td>-1.626429</td>\n",
       "    </tr>\n",
       "    <tr>\n",
       "      <th>2015-11-01 02:00:00</th>\n",
       "      <td>-1.687692</td>\n",
       "    </tr>\n",
       "    <tr>\n",
       "      <th>2016-11-06 02:00:00</th>\n",
       "      <td>-1.745860</td>\n",
       "    </tr>\n",
       "    <tr>\n",
       "      <th>2016-11-06 02:00:00</th>\n",
       "      <td>-1.607091</td>\n",
       "    </tr>\n",
       "    <tr>\n",
       "      <th>2017-11-05 02:00:00</th>\n",
       "      <td>-1.677636</td>\n",
       "    </tr>\n",
       "    <tr>\n",
       "      <th>2017-11-05 02:00:00</th>\n",
       "      <td>-1.765817</td>\n",
       "    </tr>\n",
       "  </tbody>\n",
       "</table>\n",
       "</div>"
      ],
      "text/plain": [
       "                      PJME_MW\n",
       "Datetime                     \n",
       "2014-11-02 02:00:00 -1.414795\n",
       "2014-11-02 02:00:00 -1.287939\n",
       "2015-11-01 02:00:00 -1.626429\n",
       "2015-11-01 02:00:00 -1.687692\n",
       "2016-11-06 02:00:00 -1.745860\n",
       "2016-11-06 02:00:00 -1.607091\n",
       "2017-11-05 02:00:00 -1.677636\n",
       "2017-11-05 02:00:00 -1.765817"
      ]
     },
     "execution_count": 20,
     "metadata": {},
     "output_type": "execute_result"
    }
   ],
   "source": [
    "df_dupes"
   ]
  },
  {
   "cell_type": "code",
   "execution_count": 21,
   "id": "f72a71b7-a118-40ed-be7e-97452873576c",
   "metadata": {},
   "outputs": [],
   "source": [
    "if raw_pjme.index.duplicated().any():\n",
    "    raw_pjme = raw_pjme.groupby(level=0).mean().sort_index()"
   ]
  },
  {
   "cell_type": "code",
   "execution_count": 22,
   "id": "a7580f1a-4f12-4546-815f-f4043748db8d",
   "metadata": {},
   "outputs": [
    {
     "name": "stdout",
     "output_type": "stream",
     "text": [
      "<class 'pandas.core.frame.DataFrame'>\n",
      "DatetimeIndex: 145362 entries, 2002-01-01 01:00:00 to 2018-08-03 00:00:00\n",
      "Data columns (total 1 columns):\n",
      " #   Column   Non-Null Count   Dtype  \n",
      "---  ------   --------------   -----  \n",
      " 0   PJME_MW  145362 non-null  float64\n",
      "dtypes: float64(1)\n",
      "memory usage: 2.2 MB\n"
     ]
    }
   ],
   "source": [
    "raw_pjme.info()"
   ]
  },
  {
   "cell_type": "code",
   "execution_count": 37,
   "id": "2f9f5fae-6f2f-4ddc-809b-2bcf9417f8e5",
   "metadata": {},
   "outputs": [],
   "source": [
    "raw_pjme = raw_pjme.asfreq(\"h\")"
   ]
  },
  {
   "cell_type": "code",
   "execution_count": 38,
   "id": "9f2c30ba-19f9-42e1-bd32-700d13ce2167",
   "metadata": {},
   "outputs": [
    {
     "name": "stdout",
     "output_type": "stream",
     "text": [
      "<class 'pandas.core.frame.DataFrame'>\n",
      "DatetimeIndex: 145392 entries, 2002-01-01 01:00:00 to 2018-08-03 00:00:00\n",
      "Freq: h\n",
      "Data columns (total 1 columns):\n",
      " #   Column   Non-Null Count   Dtype  \n",
      "---  ------   --------------   -----  \n",
      " 0   PJME_MW  145362 non-null  float64\n",
      "dtypes: float64(1)\n",
      "memory usage: 2.2 MB\n"
     ]
    }
   ],
   "source": [
    "raw_pjme.info()"
   ]
  },
  {
   "cell_type": "code",
   "execution_count": 39,
   "id": "35bb42c8-08ab-49eb-924b-8b0330303569",
   "metadata": {},
   "outputs": [
    {
     "name": "stdout",
     "output_type": "stream",
     "text": [
      "PJME_MW    30\n",
      "dtype: int64\n"
     ]
    }
   ],
   "source": [
    "print(raw_pjme.isna().sum())\n"
   ]
  },
  {
   "cell_type": "code",
   "execution_count": 40,
   "id": "f76559d2-f75d-40e9-89ba-44b061cae64e",
   "metadata": {},
   "outputs": [
    {
     "name": "stdout",
     "output_type": "stream",
     "text": [
      "                     PJME_MW\n",
      "Datetime                    \n",
      "2002-04-07 03:00:00      NaN\n",
      "2002-10-27 02:00:00      NaN\n",
      "2003-04-06 03:00:00      NaN\n",
      "2003-10-26 02:00:00      NaN\n",
      "2004-04-04 03:00:00      NaN\n"
     ]
    }
   ],
   "source": [
    "df_nan = raw_pjme[raw_pjme.isna().any(axis=1)]\n",
    "print(df_nan.head())"
   ]
  },
  {
   "cell_type": "code",
   "execution_count": 45,
   "id": "63e38b12-bc58-4bfc-8cde-551fbe5eec99",
   "metadata": {},
   "outputs": [],
   "source": [
    "raw_pjme[\"PJME_MW\"] = raw_pjme[\"PJME_MW\"].interpolate()"
   ]
  },
  {
   "cell_type": "code",
   "execution_count": 46,
   "id": "e75963af-035e-40b2-8461-292393cf466a",
   "metadata": {},
   "outputs": [
    {
     "name": "stdout",
     "output_type": "stream",
     "text": [
      "Empty DataFrame\n",
      "Columns: [PJME_MW]\n",
      "Index: []\n"
     ]
    }
   ],
   "source": [
    "df_nan = raw_pjme[raw_pjme.isna().any(axis=1)]\n",
    "print(df_nan.head())"
   ]
  },
  {
   "cell_type": "code",
   "execution_count": 48,
   "id": "d5dddad4-68ff-4385-8f5f-5638f6c9e429",
   "metadata": {},
   "outputs": [],
   "source": [
    "raw_pjme = raw_pjme.sort_index()"
   ]
  },
  {
   "cell_type": "code",
   "execution_count": 49,
   "id": "630e551f-a2a2-4120-b630-0e3e1ed9574c",
   "metadata": {},
   "outputs": [
    {
     "data": {
      "text/plain": [
       "<Axes: xlabel='Datetime', ylabel='PJME_MW'>"
      ]
     },
     "execution_count": 49,
     "metadata": {},
     "output_type": "execute_result"
    },
    {
     "data": {
      "image/png": "[encoded data removed]",
      "text/plain": [
       "<Figure size 640x480 with 1 Axes>"
      ]
     },
     "metadata": {},
     "output_type": "display_data"
    }
   ],
   "source": [
    "sns.lineplot(x=raw_pjme.index, y=raw_pjme[\"PJME_MW\"])"
   ]
  },
  {
   "cell_type": "code",
   "execution_count": null,
   "id": "6f4948f1-56b3-48de-9a52-5c0e75ba1353",
   "metadata": {},
   "outputs": [],
   "source": []
  }
 ],
 "metadata": {
  "kernelspec": {
   "display_name": "Python 3 (ipykernel)",
   "language": "python",
   "name": "python3"
  },
  "language_info": {
   "codemirror_mode": {
    "name": "ipython",
    "version": 3
   },
   "file_extension": ".py",
   "mimetype": "text/x-python",
   "name": "python",
   "nbconvert_exporter": "python",
   "pygments_lexer": "ipython3",
   "version": "3.10.18"
  }
 },
 "nbformat": 4,
 "nbformat_minor": 5
}
